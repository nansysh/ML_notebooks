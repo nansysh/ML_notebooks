{
 "cells": [
  {
   "cell_type": "markdown",
   "id": "1d264069",
   "metadata": {
    "ExecuteTime": {
     "end_time": "2024-10-04T09:05:02.939617Z",
     "start_time": "2024-10-04T09:05:02.919799Z"
    }
   },
   "source": [
    "Задание подготовлено Анастасией Щепанской "
   ]
  },
  {
   "cell_type": "markdown",
   "id": "a5d5b45d",
   "metadata": {},
   "source": [
    "# Задание 1: Проверка нормальности распределения данных с помощью критерия Шапиро-Уилка"
   ]
  },
  {
   "cell_type": "markdown",
   "id": "fada35ea",
   "metadata": {},
   "source": [
    "📚 Датасет: **Iris** Dataset https://archive.ics.uci.edu/ml/machine-learning-databases/iris/iris.data\n",
    "\n",
    "\n",
    "🎯 Цель: проверить, соответствует ли распределение длины лепестков (**petal length**) вида **Iris setosa** нормальному распределению с помощью критерия Шапиро-Уилка.\n"
   ]
  },
  {
   "cell_type": "markdown",
   "id": "540f71f4",
   "metadata": {},
   "source": [
    "## Описание датасета"
   ]
  },
  {
   "cell_type": "markdown",
   "id": "66c47023",
   "metadata": {},
   "source": [
    "Набор данных **Iris** состоит из 150 образцов цветков ириса трех разных видов: Setosa, Versicolor и Virginica. Каждый образец включает в себя четыре признака: длину чашелистика, ширину чашелистика, длину лепестка и ширину лепестка в ширину.\n",
    "\n",
    "В наборе данных представлены следующие характеристики:\n",
    "\n",
    "**Sepal Length**: Этот атрибут представляет длину чашелистика, который является самым внешним витком цветка. Он измеряется в сантиметрах (см). Длина чашелистика дает информацию о размере чашелистика, который может варьироваться у разных видов и может быть полезен для различения между ними.\n",
    "\n",
    "**Sepal Width**: Этот атрибут представляет ширину чашелистика, которая измеряется перпендикулярно его длине. Он также измеряется в сантиметрах (см). Ширина чашелистика предоставляет информацию о форме и ширине чашелистика, которые могут варьироваться у разных видов и могут использоваться как отличительный признак для их различения.\n",
    "\n",
    "**Petal Length**: Этот атрибут отражает длину лепестка, который является самой внутренней частью цветка. Он измеряется в сантиметрах (см). Длина лепестка предоставляет информацию о размере и удлинении лепестка, которые могут значительно варьироваться у разных видов и часто используются в качестве отличительного признака при классификации цветов.\n",
    "\n",
    "**Petal Width**: Этот атрибут представляет ширину лепестка, которая измеряется перпендикулярно его длине. Он также измеряется в сантиметрах (см). Ширина лепестка предоставляет информацию о форме, размере и ширине лепестка, которая может отличаться у разных видов и может быть полезной характеристикой для различения между ними.\n"
   ]
  },
  {
   "cell_type": "markdown",
   "id": "acca28fa",
   "metadata": {},
   "source": [
    "## Загрузка и обзор данных"
   ]
  },
  {
   "cell_type": "code",
   "execution_count": 496,
   "id": "b8d5dfb8",
   "metadata": {
    "ExecuteTime": {
     "end_time": "2024-10-09T08:36:46.585311Z",
     "start_time": "2024-10-09T08:36:46.579451Z"
    }
   },
   "outputs": [],
   "source": [
    "# Импортируем необходимые библиотеки\n",
    "import pandas as pd\n",
    "from scipy import stats\n",
    "import seaborn as sns\n",
    "import matplotlib.pyplot as plt\n",
    "\n",
    "# Отключение предупреждений\n",
    "pd.set_option('chained_assignment', None)"
   ]
  },
  {
   "cell_type": "code",
   "execution_count": 497,
   "id": "253e9009",
   "metadata": {
    "ExecuteTime": {
     "end_time": "2024-10-09T08:36:49.437724Z",
     "start_time": "2024-10-09T08:36:46.588240Z"
    }
   },
   "outputs": [
    {
     "data": {
      "text/html": [
       "<div>\n",
       "<style scoped>\n",
       "    .dataframe tbody tr th:only-of-type {\n",
       "        vertical-align: middle;\n",
       "    }\n",
       "\n",
       "    .dataframe tbody tr th {\n",
       "        vertical-align: top;\n",
       "    }\n",
       "\n",
       "    .dataframe thead th {\n",
       "        text-align: right;\n",
       "    }\n",
       "</style>\n",
       "<table border=\"1\" class=\"dataframe\">\n",
       "  <thead>\n",
       "    <tr style=\"text-align: right;\">\n",
       "      <th></th>\n",
       "      <th>5.1</th>\n",
       "      <th>3.5</th>\n",
       "      <th>1.4</th>\n",
       "      <th>0.2</th>\n",
       "      <th>Iris-setosa</th>\n",
       "    </tr>\n",
       "  </thead>\n",
       "  <tbody>\n",
       "    <tr>\n",
       "      <th>0</th>\n",
       "      <td>4.9</td>\n",
       "      <td>3.0</td>\n",
       "      <td>1.4</td>\n",
       "      <td>0.2</td>\n",
       "      <td>Iris-setosa</td>\n",
       "    </tr>\n",
       "    <tr>\n",
       "      <th>1</th>\n",
       "      <td>4.7</td>\n",
       "      <td>3.2</td>\n",
       "      <td>1.3</td>\n",
       "      <td>0.2</td>\n",
       "      <td>Iris-setosa</td>\n",
       "    </tr>\n",
       "    <tr>\n",
       "      <th>2</th>\n",
       "      <td>4.6</td>\n",
       "      <td>3.1</td>\n",
       "      <td>1.5</td>\n",
       "      <td>0.2</td>\n",
       "      <td>Iris-setosa</td>\n",
       "    </tr>\n",
       "    <tr>\n",
       "      <th>3</th>\n",
       "      <td>5.0</td>\n",
       "      <td>3.6</td>\n",
       "      <td>1.4</td>\n",
       "      <td>0.2</td>\n",
       "      <td>Iris-setosa</td>\n",
       "    </tr>\n",
       "    <tr>\n",
       "      <th>4</th>\n",
       "      <td>5.4</td>\n",
       "      <td>3.9</td>\n",
       "      <td>1.7</td>\n",
       "      <td>0.4</td>\n",
       "      <td>Iris-setosa</td>\n",
       "    </tr>\n",
       "    <tr>\n",
       "      <th>...</th>\n",
       "      <td>...</td>\n",
       "      <td>...</td>\n",
       "      <td>...</td>\n",
       "      <td>...</td>\n",
       "      <td>...</td>\n",
       "    </tr>\n",
       "    <tr>\n",
       "      <th>144</th>\n",
       "      <td>6.7</td>\n",
       "      <td>3.0</td>\n",
       "      <td>5.2</td>\n",
       "      <td>2.3</td>\n",
       "      <td>Iris-virginica</td>\n",
       "    </tr>\n",
       "    <tr>\n",
       "      <th>145</th>\n",
       "      <td>6.3</td>\n",
       "      <td>2.5</td>\n",
       "      <td>5.0</td>\n",
       "      <td>1.9</td>\n",
       "      <td>Iris-virginica</td>\n",
       "    </tr>\n",
       "    <tr>\n",
       "      <th>146</th>\n",
       "      <td>6.5</td>\n",
       "      <td>3.0</td>\n",
       "      <td>5.2</td>\n",
       "      <td>2.0</td>\n",
       "      <td>Iris-virginica</td>\n",
       "    </tr>\n",
       "    <tr>\n",
       "      <th>147</th>\n",
       "      <td>6.2</td>\n",
       "      <td>3.4</td>\n",
       "      <td>5.4</td>\n",
       "      <td>2.3</td>\n",
       "      <td>Iris-virginica</td>\n",
       "    </tr>\n",
       "    <tr>\n",
       "      <th>148</th>\n",
       "      <td>5.9</td>\n",
       "      <td>3.0</td>\n",
       "      <td>5.1</td>\n",
       "      <td>1.8</td>\n",
       "      <td>Iris-virginica</td>\n",
       "    </tr>\n",
       "  </tbody>\n",
       "</table>\n",
       "<p>149 rows × 5 columns</p>\n",
       "</div>"
      ],
      "text/plain": [
       "     5.1  3.5  1.4  0.2     Iris-setosa\n",
       "0    4.9  3.0  1.4  0.2     Iris-setosa\n",
       "1    4.7  3.2  1.3  0.2     Iris-setosa\n",
       "2    4.6  3.1  1.5  0.2     Iris-setosa\n",
       "3    5.0  3.6  1.4  0.2     Iris-setosa\n",
       "4    5.4  3.9  1.7  0.4     Iris-setosa\n",
       "..   ...  ...  ...  ...             ...\n",
       "144  6.7  3.0  5.2  2.3  Iris-virginica\n",
       "145  6.3  2.5  5.0  1.9  Iris-virginica\n",
       "146  6.5  3.0  5.2  2.0  Iris-virginica\n",
       "147  6.2  3.4  5.4  2.3  Iris-virginica\n",
       "148  5.9  3.0  5.1  1.8  Iris-virginica\n",
       "\n",
       "[149 rows x 5 columns]"
      ]
     },
     "execution_count": 497,
     "metadata": {},
     "output_type": "execute_result"
    }
   ],
   "source": [
    "# Загрузим датасет\n",
    "url = \"https://archive.ics.uci.edu/ml/machine-learning-databases/iris/iris.data\"\n",
    "data = pd.read_csv(url)\n",
    "data"
   ]
  },
  {
   "cell_type": "code",
   "execution_count": 498,
   "id": "285ada44",
   "metadata": {
    "ExecuteTime": {
     "end_time": "2024-10-09T08:36:50.429980Z",
     "start_time": "2024-10-09T08:36:49.439679Z"
    },
    "scrolled": true
   },
   "outputs": [],
   "source": [
    "# Загрузим данные, добавим названия колонок\n",
    "column_names = [\"sepal_length\", \"sepal_width\", \"petal_length\", \"petal_width\", \"species\"]\n",
    "iris_data = pd.read_csv(url, header=None, names=column_names)"
   ]
  },
  {
   "cell_type": "code",
   "execution_count": 499,
   "id": "58ac826d",
   "metadata": {
    "ExecuteTime": {
     "end_time": "2024-10-09T08:36:50.445604Z",
     "start_time": "2024-10-09T08:36:50.431935Z"
    },
    "scrolled": true
   },
   "outputs": [
    {
     "data": {
      "text/html": [
       "<div>\n",
       "<style scoped>\n",
       "    .dataframe tbody tr th:only-of-type {\n",
       "        vertical-align: middle;\n",
       "    }\n",
       "\n",
       "    .dataframe tbody tr th {\n",
       "        vertical-align: top;\n",
       "    }\n",
       "\n",
       "    .dataframe thead th {\n",
       "        text-align: right;\n",
       "    }\n",
       "</style>\n",
       "<table border=\"1\" class=\"dataframe\">\n",
       "  <thead>\n",
       "    <tr style=\"text-align: right;\">\n",
       "      <th></th>\n",
       "      <th>sepal_length</th>\n",
       "      <th>sepal_width</th>\n",
       "      <th>petal_length</th>\n",
       "      <th>petal_width</th>\n",
       "      <th>species</th>\n",
       "    </tr>\n",
       "  </thead>\n",
       "  <tbody>\n",
       "    <tr>\n",
       "      <th>0</th>\n",
       "      <td>5.1</td>\n",
       "      <td>3.5</td>\n",
       "      <td>1.4</td>\n",
       "      <td>0.2</td>\n",
       "      <td>Iris-setosa</td>\n",
       "    </tr>\n",
       "    <tr>\n",
       "      <th>1</th>\n",
       "      <td>4.9</td>\n",
       "      <td>3.0</td>\n",
       "      <td>1.4</td>\n",
       "      <td>0.2</td>\n",
       "      <td>Iris-setosa</td>\n",
       "    </tr>\n",
       "    <tr>\n",
       "      <th>2</th>\n",
       "      <td>4.7</td>\n",
       "      <td>3.2</td>\n",
       "      <td>1.3</td>\n",
       "      <td>0.2</td>\n",
       "      <td>Iris-setosa</td>\n",
       "    </tr>\n",
       "    <tr>\n",
       "      <th>3</th>\n",
       "      <td>4.6</td>\n",
       "      <td>3.1</td>\n",
       "      <td>1.5</td>\n",
       "      <td>0.2</td>\n",
       "      <td>Iris-setosa</td>\n",
       "    </tr>\n",
       "    <tr>\n",
       "      <th>4</th>\n",
       "      <td>5.0</td>\n",
       "      <td>3.6</td>\n",
       "      <td>1.4</td>\n",
       "      <td>0.2</td>\n",
       "      <td>Iris-setosa</td>\n",
       "    </tr>\n",
       "  </tbody>\n",
       "</table>\n",
       "</div>"
      ],
      "text/plain": [
       "   sepal_length  sepal_width  petal_length  petal_width      species\n",
       "0           5.1          3.5           1.4          0.2  Iris-setosa\n",
       "1           4.9          3.0           1.4          0.2  Iris-setosa\n",
       "2           4.7          3.2           1.3          0.2  Iris-setosa\n",
       "3           4.6          3.1           1.5          0.2  Iris-setosa\n",
       "4           5.0          3.6           1.4          0.2  Iris-setosa"
      ]
     },
     "execution_count": 499,
     "metadata": {},
     "output_type": "execute_result"
    }
   ],
   "source": [
    "# Смотрим, что в датасете\n",
    "iris_data.head()"
   ]
  },
  {
   "cell_type": "code",
   "execution_count": 500,
   "id": "d4cdd0d3",
   "metadata": {
    "ExecuteTime": {
     "end_time": "2024-10-09T08:36:50.456351Z",
     "start_time": "2024-10-09T08:36:50.447558Z"
    }
   },
   "outputs": [
    {
     "data": {
      "text/plain": [
       "array(['Iris-setosa', 'Iris-versicolor', 'Iris-virginica'], dtype=object)"
      ]
     },
     "execution_count": 500,
     "metadata": {},
     "output_type": "execute_result"
    }
   ],
   "source": [
    "# Посмотрим какие уникальные значения в колонке 'species'\n",
    "num_unique = iris_data['species'].unique()\n",
    "num_unique"
   ]
  },
  {
   "cell_type": "code",
   "execution_count": 501,
   "id": "5b302ee1",
   "metadata": {
    "ExecuteTime": {
     "end_time": "2024-10-09T08:36:50.471973Z",
     "start_time": "2024-10-09T08:36:50.458302Z"
    }
   },
   "outputs": [
    {
     "name": "stdout",
     "output_type": "stream",
     "text": [
      "<class 'pandas.core.frame.DataFrame'>\n",
      "RangeIndex: 150 entries, 0 to 149\n",
      "Data columns (total 5 columns):\n",
      " #   Column        Non-Null Count  Dtype  \n",
      "---  ------        --------------  -----  \n",
      " 0   sepal_length  150 non-null    float64\n",
      " 1   sepal_width   150 non-null    float64\n",
      " 2   petal_length  150 non-null    float64\n",
      " 3   petal_width   150 non-null    float64\n",
      " 4   species       150 non-null    object \n",
      "dtypes: float64(4), object(1)\n",
      "memory usage: 6.0+ KB\n"
     ]
    }
   ],
   "source": [
    "# Проверяем есть ли пропуски, какие типы данных\n",
    "iris_data.info()"
   ]
  },
  {
   "cell_type": "markdown",
   "id": "bc620d40",
   "metadata": {},
   "source": [
    " Все четыре переменные имеют по 150 наблюдений, что указывает на полные данные без пропусков."
   ]
  },
  {
   "cell_type": "code",
   "execution_count": 502,
   "id": "a156ed58",
   "metadata": {
    "ExecuteTime": {
     "end_time": "2024-10-09T08:36:50.502243Z",
     "start_time": "2024-10-09T08:36:50.473926Z"
    },
    "scrolled": true
   },
   "outputs": [
    {
     "data": {
      "text/html": [
       "<div>\n",
       "<style scoped>\n",
       "    .dataframe tbody tr th:only-of-type {\n",
       "        vertical-align: middle;\n",
       "    }\n",
       "\n",
       "    .dataframe tbody tr th {\n",
       "        vertical-align: top;\n",
       "    }\n",
       "\n",
       "    .dataframe thead th {\n",
       "        text-align: right;\n",
       "    }\n",
       "</style>\n",
       "<table border=\"1\" class=\"dataframe\">\n",
       "  <thead>\n",
       "    <tr style=\"text-align: right;\">\n",
       "      <th></th>\n",
       "      <th>sepal_length</th>\n",
       "      <th>sepal_width</th>\n",
       "      <th>petal_length</th>\n",
       "      <th>petal_width</th>\n",
       "    </tr>\n",
       "  </thead>\n",
       "  <tbody>\n",
       "    <tr>\n",
       "      <th>count</th>\n",
       "      <td>150.000000</td>\n",
       "      <td>150.000000</td>\n",
       "      <td>150.000000</td>\n",
       "      <td>150.000000</td>\n",
       "    </tr>\n",
       "    <tr>\n",
       "      <th>mean</th>\n",
       "      <td>5.843333</td>\n",
       "      <td>3.054000</td>\n",
       "      <td>3.758667</td>\n",
       "      <td>1.198667</td>\n",
       "    </tr>\n",
       "    <tr>\n",
       "      <th>std</th>\n",
       "      <td>0.828066</td>\n",
       "      <td>0.433594</td>\n",
       "      <td>1.764420</td>\n",
       "      <td>0.763161</td>\n",
       "    </tr>\n",
       "    <tr>\n",
       "      <th>min</th>\n",
       "      <td>4.300000</td>\n",
       "      <td>2.000000</td>\n",
       "      <td>1.000000</td>\n",
       "      <td>0.100000</td>\n",
       "    </tr>\n",
       "    <tr>\n",
       "      <th>25%</th>\n",
       "      <td>5.100000</td>\n",
       "      <td>2.800000</td>\n",
       "      <td>1.600000</td>\n",
       "      <td>0.300000</td>\n",
       "    </tr>\n",
       "    <tr>\n",
       "      <th>50%</th>\n",
       "      <td>5.800000</td>\n",
       "      <td>3.000000</td>\n",
       "      <td>4.350000</td>\n",
       "      <td>1.300000</td>\n",
       "    </tr>\n",
       "    <tr>\n",
       "      <th>75%</th>\n",
       "      <td>6.400000</td>\n",
       "      <td>3.300000</td>\n",
       "      <td>5.100000</td>\n",
       "      <td>1.800000</td>\n",
       "    </tr>\n",
       "    <tr>\n",
       "      <th>max</th>\n",
       "      <td>7.900000</td>\n",
       "      <td>4.400000</td>\n",
       "      <td>6.900000</td>\n",
       "      <td>2.500000</td>\n",
       "    </tr>\n",
       "  </tbody>\n",
       "</table>\n",
       "</div>"
      ],
      "text/plain": [
       "       sepal_length  sepal_width  petal_length  petal_width\n",
       "count    150.000000   150.000000    150.000000   150.000000\n",
       "mean       5.843333     3.054000      3.758667     1.198667\n",
       "std        0.828066     0.433594      1.764420     0.763161\n",
       "min        4.300000     2.000000      1.000000     0.100000\n",
       "25%        5.100000     2.800000      1.600000     0.300000\n",
       "50%        5.800000     3.000000      4.350000     1.300000\n",
       "75%        6.400000     3.300000      5.100000     1.800000\n",
       "max        7.900000     4.400000      6.900000     2.500000"
      ]
     },
     "execution_count": 502,
     "metadata": {},
     "output_type": "execute_result"
    }
   ],
   "source": [
    "# Смотрим статистические характеристики:\n",
    "iris_data.describe()"
   ]
  },
  {
   "cell_type": "markdown",
   "id": "f5e96431",
   "metadata": {
    "ExecuteTime": {
     "end_time": "2024-10-04T09:55:22.154178Z",
     "start_time": "2024-10-04T09:55:22.145189Z"
    }
   },
   "source": [
    "- Данные показывают, что длина и ширина чашелистика имеют более узкий диапазон значений по сравнению с длиной и шириной лепестка, что может указывать на то, что лепестки имеют более выраженные различия между видами ирисов.\n",
    "\n",
    "- Стандартное отклонение для длины лепестка значительно выше, чем для других переменных, что может указывать на наличие различных видов или подвидов в наборе данных, которые имеют разные размеры лепестков.\n",
    "\n",
    "- В целом, данные могут быть использованы для дальнейшего анализа"
   ]
  },
  {
   "cell_type": "markdown",
   "id": "fc6850ba",
   "metadata": {},
   "source": [
    "## Построение гистограммы для petal_length Iris-setosa"
   ]
  },
  {
   "cell_type": "code",
   "execution_count": 568,
   "id": "3e837094",
   "metadata": {
    "ExecuteTime": {
     "end_time": "2024-10-09T08:51:15.133598Z",
     "start_time": "2024-10-09T08:51:14.847438Z"
    },
    "scrolled": true
   },
   "outputs": [
    {
     "data": {
      "image/png": "[encoded data removed]",
      "text/plain": [
       "<Figure size 900x600 with 1 Axes>"
      ]
     },
     "metadata": {},
     "output_type": "display_data"
    }
   ],
   "source": [
    "# Фильтрация данных для Iris-setosa\n",
    "setosa_data = iris_data[iris_data['species'] == 'Iris-setosa']\n",
    "\n",
    "# Построение графика распределения (KDE) для petal_length Iris-setosa\n",
    "plt.figure(figsize=(9, 6))\n",
    "sns.histplot(setosa_data['petal_length'], kde=True, color='blue', fill=True, alpha=0.3, label='Iris-setosa', stat='density')\n",
    "\n",
    "# Настройка графика\n",
    "plt.title('Распределение Petal Length для Iris-setosa')\n",
    "plt.xlabel('Petal Length')\n",
    "plt.ylabel('Плотность')\n",
    "plt.legend()\n",
    "plt.show()\n"
   ]
  },
  {
   "cell_type": "markdown",
   "id": "a57bb3ad",
   "metadata": {},
   "source": [
    "Распределение данных близко к нормальному, значения переменных распределены симметрично вокруг среднего, и форма распределения напоминает колокол."
   ]
  },
  {
   "cell_type": "markdown",
   "id": "6a0dfcfa",
   "metadata": {},
   "source": [
    "## Тест Шапиро-Уилка"
   ]
  },
  {
   "cell_type": "markdown",
   "id": "1b9286c8",
   "metadata": {
    "ExecuteTime": {
     "end_time": "2024-10-07T19:44:21.964180Z",
     "start_time": "2024-10-07T19:44:21.959278Z"
    }
   },
   "source": [
    "Этот тест проверяет гипотезу о том, что выборка имеет нормальное распределение."
   ]
  },
  {
   "cell_type": "code",
   "execution_count": 504,
   "id": "8fd923fb",
   "metadata": {
    "ExecuteTime": {
     "end_time": "2024-10-09T08:36:50.770400Z",
     "start_time": "2024-10-09T08:36:50.765529Z"
    }
   },
   "outputs": [],
   "source": [
    "# Фильтруем данные для Iris setosa:\n",
    "setosa_petal_length = iris_data[iris_data['species'] == 'Iris-setosa']['petal_length']"
   ]
  },
  {
   "cell_type": "code",
   "execution_count": 505,
   "id": "eab1007a",
   "metadata": {
    "ExecuteTime": {
     "end_time": "2024-10-09T08:36:50.780163Z",
     "start_time": "2024-10-09T08:36:50.774304Z"
    }
   },
   "outputs": [
    {
     "name": "stdout",
     "output_type": "stream",
     "text": [
      "Statistic: 0.95, p-value: 0.055\n"
     ]
    }
   ],
   "source": [
    "# Проводим тест Шапиро-Уилка:\n",
    "stat, p_value = stats.shapiro(setosa_petal_length)\n",
    "print(f'Statistic: {stat:.2}, p-value: {p_value:.2}')\n"
   ]
  },
  {
   "cell_type": "markdown",
   "id": "1bb65d9c",
   "metadata": {},
   "source": [
    "## Интерпретация результатов"
   ]
  },
  {
   "cell_type": "code",
   "execution_count": 566,
   "id": "c76beb69",
   "metadata": {
    "ExecuteTime": {
     "end_time": "2024-10-09T08:49:09.811295Z",
     "start_time": "2024-10-09T08:49:09.805429Z"
    }
   },
   "outputs": [
    {
     "name": "stdout",
     "output_type": "stream",
     "text": [
      "📈  Распределение длины лепестков (petal length) вида Iris setosa не является нормальным.\n"
     ]
    }
   ],
   "source": [
    "if p_value < 0.05:\n",
    "    print(\"📈  Распределение длины лепестков (petal length) вида Iris setosa не является нормальным.\")\n",
    "else:\n",
    "    print(\"📈  Распределение длины лепестков (petal length) вида Iris setosa можно считать нормальным.\")"
   ]
  },
  {
   "cell_type": "markdown",
   "id": "e25d89a9",
   "metadata": {},
   "source": [
    "# Задание 2: Сравнение средних значений двух групп с использованием T-критерия"
   ]
  },
  {
   "cell_type": "markdown",
   "id": "8616e714",
   "metadata": {},
   "source": [
    "📚 Датасет: **Titanic** Dataset https://raw.githubusercontent.com/datasciencedojo/datasets/master/titanic.csv\n",
    "\n",
    "🎯 Цель: Проверить, есть ли статистически значимая разница в возрасте пассажиров мужчин и женщин на Титанике."
   ]
  },
  {
   "cell_type": "markdown",
   "id": "2447d061",
   "metadata": {},
   "source": [
    "## Описание датасета"
   ]
  },
  {
   "cell_type": "markdown",
   "id": "d49757b5",
   "metadata": {
    "ExecuteTime": {
     "end_time": "2024-10-07T18:01:51.984055Z",
     "start_time": "2024-10-07T18:01:51.952795Z"
    }
   },
   "source": [
    "Набор данных **Titanic** охватывает пассажиров судна Titanic и сообщает нам, выжили ли они после его крушения.\n",
    "\n",
    "Каждая строчка датасета содержит следующие признаки:\n",
    "\n",
    "\n",
    "- `Survived` — выжил данный пассажир или нет (*0* для умерших, *1* для выживших)\n",
    "- `Pclass` — класс пассажира (*1* — высший, *2* — средний, *3* — низший)\n",
    "- `Name` — имя\n",
    "- `Sex` — пол\n",
    "- `Age` — возраст\n",
    "- `SibSp` — количество братьев, сестер, сводных братьев, сводных сестер, супругов на борту титаника\n",
    "- `Parch` — количество родителей, детей (в том числе приемных) на борту титаника\n",
    "- `Ticket` — номер билета\n",
    "- `Fare` — плата за проезд\n",
    "- `Cabin` — каюта\n",
    "- `Embarked` — порт посадки (*C* — Шербур; *Q* — Квинстаун; *S* — Саутгемптон)\n",
    "\n",
    "В поле Age приводится количество полных лет. Для детей меньше 1 года — дробное. Если возраст не известен точно, то указано примерное значение в формате xx.5."
   ]
  },
  {
   "cell_type": "markdown",
   "id": "254fd9b6",
   "metadata": {},
   "source": [
    "## Загрузка и обзор данных"
   ]
  },
  {
   "cell_type": "code",
   "execution_count": 507,
   "id": "6ea04d49",
   "metadata": {
    "ExecuteTime": {
     "end_time": "2024-10-09T08:36:50.796762Z",
     "start_time": "2024-10-09T08:36:50.791879Z"
    }
   },
   "outputs": [],
   "source": [
    "# Импортируем необходимые библиотеки\n",
    "import pandas as pd\n",
    "from scipy import stats"
   ]
  },
  {
   "cell_type": "code",
   "execution_count": 508,
   "id": "72523e9e",
   "metadata": {
    "ExecuteTime": {
     "end_time": "2024-10-09T08:36:51.139091Z",
     "start_time": "2024-10-09T08:36:50.798735Z"
    }
   },
   "outputs": [
    {
     "data": {
      "text/html": [
       "<div>\n",
       "<style scoped>\n",
       "    .dataframe tbody tr th:only-of-type {\n",
       "        vertical-align: middle;\n",
       "    }\n",
       "\n",
       "    .dataframe tbody tr th {\n",
       "        vertical-align: top;\n",
       "    }\n",
       "\n",
       "    .dataframe thead th {\n",
       "        text-align: right;\n",
       "    }\n",
       "</style>\n",
       "<table border=\"1\" class=\"dataframe\">\n",
       "  <thead>\n",
       "    <tr style=\"text-align: right;\">\n",
       "      <th></th>\n",
       "      <th>PassengerId</th>\n",
       "      <th>Survived</th>\n",
       "      <th>Pclass</th>\n",
       "      <th>Name</th>\n",
       "      <th>Sex</th>\n",
       "      <th>Age</th>\n",
       "      <th>SibSp</th>\n",
       "      <th>Parch</th>\n",
       "      <th>Ticket</th>\n",
       "      <th>Fare</th>\n",
       "      <th>Cabin</th>\n",
       "      <th>Embarked</th>\n",
       "    </tr>\n",
       "  </thead>\n",
       "  <tbody>\n",
       "    <tr>\n",
       "      <th>312</th>\n",
       "      <td>313</td>\n",
       "      <td>0</td>\n",
       "      <td>2</td>\n",
       "      <td>Lahtinen, Mrs. William (Anna Sylfven)</td>\n",
       "      <td>female</td>\n",
       "      <td>26.0</td>\n",
       "      <td>1</td>\n",
       "      <td>1</td>\n",
       "      <td>250651</td>\n",
       "      <td>26.0000</td>\n",
       "      <td>NaN</td>\n",
       "      <td>S</td>\n",
       "    </tr>\n",
       "    <tr>\n",
       "      <th>655</th>\n",
       "      <td>656</td>\n",
       "      <td>0</td>\n",
       "      <td>2</td>\n",
       "      <td>Hickman, Mr. Leonard Mark</td>\n",
       "      <td>male</td>\n",
       "      <td>24.0</td>\n",
       "      <td>2</td>\n",
       "      <td>0</td>\n",
       "      <td>S.O.C. 14879</td>\n",
       "      <td>73.5000</td>\n",
       "      <td>NaN</td>\n",
       "      <td>S</td>\n",
       "    </tr>\n",
       "    <tr>\n",
       "      <th>218</th>\n",
       "      <td>219</td>\n",
       "      <td>1</td>\n",
       "      <td>1</td>\n",
       "      <td>Bazzani, Miss. Albina</td>\n",
       "      <td>female</td>\n",
       "      <td>32.0</td>\n",
       "      <td>0</td>\n",
       "      <td>0</td>\n",
       "      <td>11813</td>\n",
       "      <td>76.2917</td>\n",
       "      <td>D15</td>\n",
       "      <td>C</td>\n",
       "    </tr>\n",
       "    <tr>\n",
       "      <th>731</th>\n",
       "      <td>732</td>\n",
       "      <td>0</td>\n",
       "      <td>3</td>\n",
       "      <td>Hassan, Mr. Houssein G N</td>\n",
       "      <td>male</td>\n",
       "      <td>11.0</td>\n",
       "      <td>0</td>\n",
       "      <td>0</td>\n",
       "      <td>2699</td>\n",
       "      <td>18.7875</td>\n",
       "      <td>NaN</td>\n",
       "      <td>C</td>\n",
       "    </tr>\n",
       "    <tr>\n",
       "      <th>204</th>\n",
       "      <td>205</td>\n",
       "      <td>1</td>\n",
       "      <td>3</td>\n",
       "      <td>Cohen, Mr. Gurshon \"Gus\"</td>\n",
       "      <td>male</td>\n",
       "      <td>18.0</td>\n",
       "      <td>0</td>\n",
       "      <td>0</td>\n",
       "      <td>A/5 3540</td>\n",
       "      <td>8.0500</td>\n",
       "      <td>NaN</td>\n",
       "      <td>S</td>\n",
       "    </tr>\n",
       "  </tbody>\n",
       "</table>\n",
       "</div>"
      ],
      "text/plain": [
       "     PassengerId  Survived  Pclass                                   Name  \\\n",
       "312          313         0       2  Lahtinen, Mrs. William (Anna Sylfven)   \n",
       "655          656         0       2              Hickman, Mr. Leonard Mark   \n",
       "218          219         1       1                  Bazzani, Miss. Albina   \n",
       "731          732         0       3               Hassan, Mr. Houssein G N   \n",
       "204          205         1       3               Cohen, Mr. Gurshon \"Gus\"   \n",
       "\n",
       "        Sex   Age  SibSp  Parch        Ticket     Fare Cabin Embarked  \n",
       "312  female  26.0      1      1        250651  26.0000   NaN        S  \n",
       "655    male  24.0      2      0  S.O.C. 14879  73.5000   NaN        S  \n",
       "218  female  32.0      0      0         11813  76.2917   D15        C  \n",
       "731    male  11.0      0      0          2699  18.7875   NaN        C  \n",
       "204    male  18.0      0      0      A/5 3540   8.0500   NaN        S  "
      ]
     },
     "execution_count": 508,
     "metadata": {},
     "output_type": "execute_result"
    }
   ],
   "source": [
    "# Загружаем датасет и смотрим\n",
    "url = \"https://raw.githubusercontent.com/datasciencedojo/datasets/master/titanic.csv\"\n",
    "titanic_data = pd.read_csv(url)\n",
    "titanic_data.sample(5)"
   ]
  },
  {
   "cell_type": "code",
   "execution_count": 509,
   "id": "350f7de4",
   "metadata": {
    "ExecuteTime": {
     "end_time": "2024-10-09T08:36:51.154717Z",
     "start_time": "2024-10-09T08:36:51.141045Z"
    }
   },
   "outputs": [
    {
     "name": "stdout",
     "output_type": "stream",
     "text": [
      "<class 'pandas.core.frame.DataFrame'>\n",
      "RangeIndex: 891 entries, 0 to 890\n",
      "Data columns (total 12 columns):\n",
      " #   Column       Non-Null Count  Dtype  \n",
      "---  ------       --------------  -----  \n",
      " 0   PassengerId  891 non-null    int64  \n",
      " 1   Survived     891 non-null    int64  \n",
      " 2   Pclass       891 non-null    int64  \n",
      " 3   Name         891 non-null    object \n",
      " 4   Sex          891 non-null    object \n",
      " 5   Age          714 non-null    float64\n",
      " 6   SibSp        891 non-null    int64  \n",
      " 7   Parch        891 non-null    int64  \n",
      " 8   Ticket       891 non-null    object \n",
      " 9   Fare         891 non-null    float64\n",
      " 10  Cabin        204 non-null    object \n",
      " 11  Embarked     889 non-null    object \n",
      "dtypes: float64(2), int64(5), object(5)\n",
      "memory usage: 83.7+ KB\n"
     ]
    }
   ],
   "source": [
    "# Проверяем есть ли пропуски, какие типы данных\n",
    "titanic_data.info()"
   ]
  },
  {
   "cell_type": "markdown",
   "id": "f7dfc704",
   "metadata": {},
   "source": [
    "Видно, что есть пропуски значений в колонках Age, Cabin, Embarked. "
   ]
  },
  {
   "cell_type": "code",
   "execution_count": 510,
   "id": "148aba75",
   "metadata": {
    "ExecuteTime": {
     "end_time": "2024-10-09T08:36:51.190853Z",
     "start_time": "2024-10-09T08:36:51.156671Z"
    }
   },
   "outputs": [
    {
     "data": {
      "text/html": [
       "<div>\n",
       "<style scoped>\n",
       "    .dataframe tbody tr th:only-of-type {\n",
       "        vertical-align: middle;\n",
       "    }\n",
       "\n",
       "    .dataframe tbody tr th {\n",
       "        vertical-align: top;\n",
       "    }\n",
       "\n",
       "    .dataframe thead th {\n",
       "        text-align: right;\n",
       "    }\n",
       "</style>\n",
       "<table border=\"1\" class=\"dataframe\">\n",
       "  <thead>\n",
       "    <tr style=\"text-align: right;\">\n",
       "      <th></th>\n",
       "      <th>PassengerId</th>\n",
       "      <th>Survived</th>\n",
       "      <th>Pclass</th>\n",
       "      <th>Age</th>\n",
       "      <th>SibSp</th>\n",
       "      <th>Parch</th>\n",
       "      <th>Fare</th>\n",
       "    </tr>\n",
       "  </thead>\n",
       "  <tbody>\n",
       "    <tr>\n",
       "      <th>count</th>\n",
       "      <td>891.000000</td>\n",
       "      <td>891.000000</td>\n",
       "      <td>891.000000</td>\n",
       "      <td>714.000000</td>\n",
       "      <td>891.000000</td>\n",
       "      <td>891.000000</td>\n",
       "      <td>891.000000</td>\n",
       "    </tr>\n",
       "    <tr>\n",
       "      <th>mean</th>\n",
       "      <td>446.000000</td>\n",
       "      <td>0.383838</td>\n",
       "      <td>2.308642</td>\n",
       "      <td>29.699118</td>\n",
       "      <td>0.523008</td>\n",
       "      <td>0.381594</td>\n",
       "      <td>32.204208</td>\n",
       "    </tr>\n",
       "    <tr>\n",
       "      <th>std</th>\n",
       "      <td>257.353842</td>\n",
       "      <td>0.486592</td>\n",
       "      <td>0.836071</td>\n",
       "      <td>14.526497</td>\n",
       "      <td>1.102743</td>\n",
       "      <td>0.806057</td>\n",
       "      <td>49.693429</td>\n",
       "    </tr>\n",
       "    <tr>\n",
       "      <th>min</th>\n",
       "      <td>1.000000</td>\n",
       "      <td>0.000000</td>\n",
       "      <td>1.000000</td>\n",
       "      <td>0.420000</td>\n",
       "      <td>0.000000</td>\n",
       "      <td>0.000000</td>\n",
       "      <td>0.000000</td>\n",
       "    </tr>\n",
       "    <tr>\n",
       "      <th>25%</th>\n",
       "      <td>223.500000</td>\n",
       "      <td>0.000000</td>\n",
       "      <td>2.000000</td>\n",
       "      <td>20.125000</td>\n",
       "      <td>0.000000</td>\n",
       "      <td>0.000000</td>\n",
       "      <td>7.910400</td>\n",
       "    </tr>\n",
       "    <tr>\n",
       "      <th>50%</th>\n",
       "      <td>446.000000</td>\n",
       "      <td>0.000000</td>\n",
       "      <td>3.000000</td>\n",
       "      <td>28.000000</td>\n",
       "      <td>0.000000</td>\n",
       "      <td>0.000000</td>\n",
       "      <td>14.454200</td>\n",
       "    </tr>\n",
       "    <tr>\n",
       "      <th>75%</th>\n",
       "      <td>668.500000</td>\n",
       "      <td>1.000000</td>\n",
       "      <td>3.000000</td>\n",
       "      <td>38.000000</td>\n",
       "      <td>1.000000</td>\n",
       "      <td>0.000000</td>\n",
       "      <td>31.000000</td>\n",
       "    </tr>\n",
       "    <tr>\n",
       "      <th>max</th>\n",
       "      <td>891.000000</td>\n",
       "      <td>1.000000</td>\n",
       "      <td>3.000000</td>\n",
       "      <td>80.000000</td>\n",
       "      <td>8.000000</td>\n",
       "      <td>6.000000</td>\n",
       "      <td>512.329200</td>\n",
       "    </tr>\n",
       "  </tbody>\n",
       "</table>\n",
       "</div>"
      ],
      "text/plain": [
       "       PassengerId    Survived      Pclass         Age       SibSp  \\\n",
       "count   891.000000  891.000000  891.000000  714.000000  891.000000   \n",
       "mean    446.000000    0.383838    2.308642   29.699118    0.523008   \n",
       "std     257.353842    0.486592    0.836071   14.526497    1.102743   \n",
       "min       1.000000    0.000000    1.000000    0.420000    0.000000   \n",
       "25%     223.500000    0.000000    2.000000   20.125000    0.000000   \n",
       "50%     446.000000    0.000000    3.000000   28.000000    0.000000   \n",
       "75%     668.500000    1.000000    3.000000   38.000000    1.000000   \n",
       "max     891.000000    1.000000    3.000000   80.000000    8.000000   \n",
       "\n",
       "            Parch        Fare  \n",
       "count  891.000000  891.000000  \n",
       "mean     0.381594   32.204208  \n",
       "std      0.806057   49.693429  \n",
       "min      0.000000    0.000000  \n",
       "25%      0.000000    7.910400  \n",
       "50%      0.000000   14.454200  \n",
       "75%      0.000000   31.000000  \n",
       "max      6.000000  512.329200  "
      ]
     },
     "execution_count": 510,
     "metadata": {},
     "output_type": "execute_result"
    }
   ],
   "source": [
    "# Смотрим статистические характеристики числовых признаков:\n",
    "titanic_data.describe()"
   ]
  },
  {
   "cell_type": "code",
   "execution_count": 511,
   "id": "f73de661",
   "metadata": {
    "ExecuteTime": {
     "end_time": "2024-10-09T08:36:51.216238Z",
     "start_time": "2024-10-09T08:36:51.192802Z"
    }
   },
   "outputs": [
    {
     "data": {
      "text/html": [
       "<div>\n",
       "<style scoped>\n",
       "    .dataframe tbody tr th:only-of-type {\n",
       "        vertical-align: middle;\n",
       "    }\n",
       "\n",
       "    .dataframe tbody tr th {\n",
       "        vertical-align: top;\n",
       "    }\n",
       "\n",
       "    .dataframe thead th {\n",
       "        text-align: right;\n",
       "    }\n",
       "</style>\n",
       "<table border=\"1\" class=\"dataframe\">\n",
       "  <thead>\n",
       "    <tr style=\"text-align: right;\">\n",
       "      <th></th>\n",
       "      <th>Name</th>\n",
       "      <th>Sex</th>\n",
       "      <th>Ticket</th>\n",
       "      <th>Cabin</th>\n",
       "      <th>Embarked</th>\n",
       "    </tr>\n",
       "  </thead>\n",
       "  <tbody>\n",
       "    <tr>\n",
       "      <th>count</th>\n",
       "      <td>891</td>\n",
       "      <td>891</td>\n",
       "      <td>891</td>\n",
       "      <td>204</td>\n",
       "      <td>889</td>\n",
       "    </tr>\n",
       "    <tr>\n",
       "      <th>unique</th>\n",
       "      <td>891</td>\n",
       "      <td>2</td>\n",
       "      <td>681</td>\n",
       "      <td>147</td>\n",
       "      <td>3</td>\n",
       "    </tr>\n",
       "    <tr>\n",
       "      <th>top</th>\n",
       "      <td>Braund, Mr. Owen Harris</td>\n",
       "      <td>male</td>\n",
       "      <td>347082</td>\n",
       "      <td>B96 B98</td>\n",
       "      <td>S</td>\n",
       "    </tr>\n",
       "    <tr>\n",
       "      <th>freq</th>\n",
       "      <td>1</td>\n",
       "      <td>577</td>\n",
       "      <td>7</td>\n",
       "      <td>4</td>\n",
       "      <td>644</td>\n",
       "    </tr>\n",
       "  </tbody>\n",
       "</table>\n",
       "</div>"
      ],
      "text/plain": [
       "                           Name   Sex  Ticket    Cabin Embarked\n",
       "count                       891   891     891      204      889\n",
       "unique                      891     2     681      147        3\n",
       "top     Braund, Mr. Owen Harris  male  347082  B96 B98        S\n",
       "freq                          1   577       7        4      644"
      ]
     },
     "execution_count": 511,
     "metadata": {},
     "output_type": "execute_result"
    }
   ],
   "source": [
    "# Смотрим статистические характеристики категориальных признаков:\n",
    "titanic_data.describe(include='object')"
   ]
  },
  {
   "cell_type": "code",
   "execution_count": 563,
   "id": "3b972700",
   "metadata": {
    "ExecuteTime": {
     "end_time": "2024-10-09T08:47:29.712441Z",
     "start_time": "2024-10-09T08:47:29.703651Z"
    }
   },
   "outputs": [
    {
     "data": {
      "text/plain": [
       "male      577\n",
       "female    314\n",
       "Name: Sex, dtype: int64"
      ]
     },
     "execution_count": 563,
     "metadata": {},
     "output_type": "execute_result"
    }
   ],
   "source": [
    "titanic_data['Sex'].value_counts()"
   ]
  },
  {
   "cell_type": "code",
   "execution_count": null,
   "id": "220c3dc1",
   "metadata": {},
   "outputs": [],
   "source": [
    "Мужчин больше, чем женщин."
   ]
  },
  {
   "cell_type": "markdown",
   "id": "a7775a86",
   "metadata": {
    "ExecuteTime": {
     "end_time": "2024-10-07T19:43:36.389327Z",
     "start_time": "2024-10-07T19:43:36.380540Z"
    }
   },
   "source": [
    "Перед применением T-критерия необходимо проверить, нормально ли распределены данные для обеих групп (мужчины и женщины). \n",
    "Это можно сделать с помощью:\n",
    "- Гистограмм\n",
    "- Q - Q графиков"
   ]
  },
  {
   "cell_type": "code",
   "execution_count": 513,
   "id": "e04070db",
   "metadata": {
    "ExecuteTime": {
     "end_time": "2024-10-09T08:36:51.239673Z",
     "start_time": "2024-10-09T08:36:51.230889Z"
    }
   },
   "outputs": [],
   "source": [
    "# Разделяем данные на мужчин и женщин, удаляем пропущенные значения поскольку их немного:\n",
    "male_ages = titanic_data[titanic_data['Sex'] == 'male']['Age'].dropna()\n",
    "female_ages = titanic_data[titanic_data['Sex'] == 'female']['Age'].dropna()"
   ]
  },
  {
   "cell_type": "code",
   "execution_count": 562,
   "id": "1abd706c",
   "metadata": {
    "ExecuteTime": {
     "end_time": "2024-10-09T08:46:40.653315Z",
     "start_time": "2024-10-09T08:46:40.646479Z"
    }
   },
   "outputs": [
    {
     "name": "stdout",
     "output_type": "stream",
     "text": [
      "Cредний возраст мужчин, лет: 30.7\n",
      "Средний возраст женщин, лет: 27.9\n"
     ]
    }
   ],
   "source": [
    "#Вычислим средний возраст женщин и мужчин\n",
    "mean_male_ages = male_ages.mean()\n",
    "mean_female_ages = female_ages.mean()\n",
    "\n",
    "# Вывод результатов\n",
    "print(f\"Cредний возраст мужчин, лет: {mean_male_ages:.3}\")\n",
    "print(f\"Средний возраст женщин, лет: {mean_female_ages:.3}\")"
   ]
  },
  {
   "cell_type": "markdown",
   "id": "31ffff80",
   "metadata": {
    "ExecuteTime": {
     "end_time": "2024-10-08T18:48:10.902543Z",
     "start_time": "2024-10-08T18:48:10.888872Z"
    }
   },
   "source": [
    "Для одновыборочного T-теста желательно, чтобы дисперсия данных была однородной."
   ]
  },
  {
   "cell_type": "code",
   "execution_count": 560,
   "id": "0cec5351",
   "metadata": {
    "ExecuteTime": {
     "end_time": "2024-10-09T08:44:55.871790Z",
     "start_time": "2024-10-09T08:44:55.864954Z"
    }
   },
   "outputs": [
    {
     "name": "stdout",
     "output_type": "stream",
     "text": [
      "Дисперсия возраста мужчин: 215.0\n",
      "Дисперсия возраста женщин: 198.3\n"
     ]
    }
   ],
   "source": [
    "# Вычисляем дисперсии\n",
    "male_variance = male_ages.var(ddof=0)  # Используем ddof=0 для выборочной дисперсии\n",
    "female_variance = female_ages.var(ddof=0)\n",
    "\n",
    "\n",
    "# Вывод результатов\n",
    "print(f\"Дисперсия возраста мужчин: {male_variance:.4}\")\n",
    "print(f\"Дисперсия возраста женщин: {female_variance:.4}\")"
   ]
  },
  {
   "cell_type": "markdown",
   "id": "5e3e9fef",
   "metadata": {},
   "source": [
    "## Построение гистограмм"
   ]
  },
  {
   "cell_type": "code",
   "execution_count": 516,
   "id": "95a814d9",
   "metadata": {
    "ExecuteTime": {
     "end_time": "2024-10-09T08:36:51.738452Z",
     "start_time": "2024-10-09T08:36:51.264086Z"
    }
   },
   "outputs": [
    {
     "data": {
      "text/plain": [
       "<matplotlib.legend.Legend at 0x166343f1fa0>"
      ]
     },
     "execution_count": 516,
     "metadata": {},
     "output_type": "execute_result"
    },
    {
     "data": {
      "image/png": "[encoded data removed]",
      "text/plain": [
       "<Figure size 1200x600 with 1 Axes>"
      ]
     },
     "metadata": {},
     "output_type": "display_data"
    }
   ],
   "source": [
    "# Настройка графиков\n",
    "plt.figure(figsize=(12, 6))\n",
    "\n",
    "# Гистограммы\n",
    "plt.subplot(1, 2, 1)\n",
    "sns.set_palette(\"pastel\")\n",
    "sns.histplot(male_ages, bins=30, kde=True, color='blue', fill=True, alpha=0.3, label='Мужчины', stat='density')\n",
    "sns.histplot(female_ages, bins=30, kde=True, color='purple', fill=True, alpha=0.3, label='Женщины', stat='density')\n",
    "\n",
    "plt.title('Гистограммы возраста мужчин и женщин')\n",
    "plt.xlabel('Возраст')\n",
    "plt.ylabel('Плотность')\n",
    "plt.legend()\n"
   ]
  },
  {
   "cell_type": "markdown",
   "id": "cfd5a792",
   "metadata": {},
   "source": [
    "Распределение данных близко к нормальному, форма распределения напоминает колокол."
   ]
  },
  {
   "cell_type": "markdown",
   "id": "24068d27",
   "metadata": {},
   "source": [
    "## Построение Q-Q графиков"
   ]
  },
  {
   "cell_type": "code",
   "execution_count": 517,
   "id": "38731d03",
   "metadata": {
    "ExecuteTime": {
     "end_time": "2024-10-09T08:36:52.148261Z",
     "start_time": "2024-10-09T08:36:51.740406Z"
    }
   },
   "outputs": [
    {
     "data": {
      "image/png": "[encoded data removed]",
      "text/plain": [
       "<Figure size 1200x600 with 2 Axes>"
      ]
     },
     "metadata": {},
     "output_type": "display_data"
    }
   ],
   "source": [
    "# Создание фигуры с двумя подграфиками в один ряд\n",
    "plt.figure(figsize=(12, 6))\n",
    "\n",
    "# Q-Q график для мужчин\n",
    "plt.subplot(1, 2, 1)  # 1 ряд, 2 колонки, 1-й график\n",
    "stats.probplot(male_ages, dist=\"norm\", plot=plt)\n",
    "plt.title('Q-Q график для мужчин')\n",
    "\n",
    "# Q-Q график для женщин\n",
    "plt.subplot(1, 2, 2)  # 1 ряд, 2 колонки, 2-й график\n",
    "stats.probplot(female_ages, dist=\"norm\", plot=plt)\n",
    "plt.title('Q-Q график для женщин')\n",
    "\n",
    "# Настройка отступов\n",
    "plt.tight_layout()\n",
    "plt.show()"
   ]
  },
  {
   "cell_type": "markdown",
   "id": "0f443bc0",
   "metadata": {},
   "source": [
    "Данные распределились вдоль одной прямой, что свидетельствует о нормальности распределения."
   ]
  },
  {
   "cell_type": "markdown",
   "id": "58813aea",
   "metadata": {},
   "source": [
    "## Т - тест двухвыборочный"
   ]
  },
  {
   "cell_type": "markdown",
   "id": "9e24080f",
   "metadata": {},
   "source": [
    "Поскольку данные для обеих групп (мужчины и женщины) нормально распределены, то можем провести t-тест для оценки."
   ]
  },
  {
   "cell_type": "code",
   "execution_count": 569,
   "id": "b77125c2",
   "metadata": {
    "ExecuteTime": {
     "end_time": "2024-10-09T08:52:46.870386Z",
     "start_time": "2024-10-09T08:52:46.862572Z"
    }
   },
   "outputs": [
    {
     "name": "stdout",
     "output_type": "stream",
     "text": [
      "'T-statistic:', 2.5\n",
      "'P-value:', 0.013\n"
     ]
    }
   ],
   "source": [
    "# Применение T-критерия\n",
    "t_stat, p_value = stats.ttest_ind(male_ages, female_ages)\n",
    "\n",
    "print(f\"'T-statistic:', {t_stat:.2}\")\n",
    "print(f\"'P-value:', {p_value:.2}\")\n"
   ]
  },
  {
   "cell_type": "markdown",
   "id": "debef08f",
   "metadata": {
    "ExecuteTime": {
     "end_time": "2024-10-04T10:12:08.382923Z",
     "start_time": "2024-10-04T10:12:08.362927Z"
    }
   },
   "source": [
    "## Интерпретация результата:\n"
   ]
  },
  {
   "cell_type": "code",
   "execution_count": 519,
   "id": "73876a6d",
   "metadata": {
    "ExecuteTime": {
     "end_time": "2024-10-09T08:36:52.165390Z",
     "start_time": "2024-10-09T08:36:52.159547Z"
    }
   },
   "outputs": [
    {
     "name": "stdout",
     "output_type": "stream",
     "text": [
      "Существует статистически значимая разница в возрасте между мужчинами и женщинами.\n"
     ]
    }
   ],
   "source": [
    "if p_value < 0.05:\n",
    "    print(\"📈 Существует статистически значимая разница в возрасте между мужчинами и женщинами.\")\n",
    "else:\n",
    "    print(\"📈 Нет статистически значимой разницы в возрасте между мужчинами и женщинами.\")"
   ]
  },
  {
   "cell_type": "markdown",
   "id": "86a3461b",
   "metadata": {},
   "source": [
    "# Задание 3: Одновыборочный T-тест для проверки среднего значения"
   ]
  },
  {
   "cell_type": "markdown",
   "id": "e1c09a4e",
   "metadata": {},
   "source": [
    "📚 Датасет: **Iris** Dataset https://archive.ics.uci.edu/ml/machine-learning-databases/iris/iris.data\n",
    "\n",
    "🎯 Цель: проверить, отличается ли средняя длина чашелистика (sepal_length) вида Iris virginica от 6.0 см."
   ]
  },
  {
   "cell_type": "markdown",
   "id": "43c36ee8",
   "metadata": {},
   "source": [
    "## Описание датасета и обзор данных"
   ]
  },
  {
   "cell_type": "markdown",
   "id": "fa93de0c",
   "metadata": {
    "ExecuteTime": {
     "end_time": "2024-10-09T07:42:30.099839Z",
     "start_time": "2024-10-09T07:42:30.092987Z"
    }
   },
   "source": [
    "Описание дата сета и обзор данных см. в [1.1](##1-1-описание-датасета) и [1.2](##1-2-загрузка-и-обзор-данных)."
   ]
  },
  {
   "cell_type": "code",
   "execution_count": 520,
   "id": "b5cc0d63",
   "metadata": {
    "ExecuteTime": {
     "end_time": "2024-10-09T08:36:52.175167Z",
     "start_time": "2024-10-09T08:36:52.167351Z"
    }
   },
   "outputs": [
    {
     "name": "stdout",
     "output_type": "stream",
     "text": [
      "Среднее значение чашелистика Iris-virginica 6.59 см.\n"
     ]
    }
   ],
   "source": [
    "# Фильтруем данные для Iris virginica:\n",
    "virginica_sepal_length = iris_data[iris_data['species'] == 'Iris-virginica']['sepal_length']\n",
    "# Вычисим среднее значение\n",
    "virginica_sepal_length_mean = virginica_sepal_length.mean()\n",
    "\n",
    "print(f'Среднее значение чашелистика Iris-virginica {virginica_sepal_length_mean:.2f} см.')"
   ]
  },
  {
   "cell_type": "markdown",
   "id": "e04c8b9c",
   "metadata": {},
   "source": [
    "## T- тест одновыборочный"
   ]
  },
  {
   "cell_type": "code",
   "execution_count": 521,
   "id": "92979743",
   "metadata": {
    "ExecuteTime": {
     "end_time": "2024-10-09T08:36:52.183945Z",
     "start_time": "2024-10-09T08:36:52.177107Z"
    }
   },
   "outputs": [
    {
     "name": "stdout",
     "output_type": "stream",
     "text": [
      "Statistic: 6.5, p-value: 3.4e-08\n"
     ]
    }
   ],
   "source": [
    "# Проводим одновыборочный T-тест:\n",
    "test_value = 6.0\n",
    "stat, p_value = stats.ttest_1samp(virginica_sepal_length, test_value)\n",
    "print(f'Statistic: {stat:.2}, p-value: {p_value:.2}')\n",
    "   "
   ]
  },
  {
   "cell_type": "markdown",
   "id": "a0f3168b",
   "metadata": {
    "ExecuteTime": {
     "end_time": "2024-10-04T10:12:08.382923Z",
     "start_time": "2024-10-04T10:12:08.362927Z"
    }
   },
   "source": [
    "## Интерпретация результата:\n"
   ]
  },
  {
   "cell_type": "code",
   "execution_count": 546,
   "id": "90180d38",
   "metadata": {
    "ExecuteTime": {
     "end_time": "2024-10-09T08:41:10.183445Z",
     "start_time": "2024-10-09T08:41:10.177595Z"
    }
   },
   "outputs": [
    {
     "name": "stdout",
     "output_type": "stream",
     "text": [
      "📈 Средняя длина чашелистика (sepal_length) вида Iris virginica отличается от 6.0 см.\n"
     ]
    }
   ],
   "source": [
    "if p_value < 0.05:\n",
    "    print(\"📈 Средняя длина чашелистика (sepal_length) вида Iris virginica отличается от 6.0 см.\")\n",
    "else:\n",
    "    print(\"📈 Различия нет.\")"
   ]
  },
  {
   "cell_type": "markdown",
   "id": "1689ec55",
   "metadata": {
    "ExecuteTime": {
     "end_time": "2024-10-04T10:25:16.348495Z",
     "start_time": "2024-10-04T10:25:16.338458Z"
    }
   },
   "source": [
    "# Задание 4: Сравнение медиан двух независимых выборок с помощью U-критерия Манна-Уитни"
   ]
  },
  {
   "cell_type": "markdown",
   "id": "648e6c3b",
   "metadata": {},
   "source": [
    "📚 Датасет: **Penguins** Dataset\n",
    "https://raw.githubusercontent.com/allisonhorst/palmerpenguins/main/inst/extdata/penguins.csv\n",
    "\n",
    "🎯 Цель: проверить, отличается ли медианный размер клюва (bill_length_mm) между видами пингвинов Adelie и Chinstrap."
   ]
  },
  {
   "cell_type": "markdown",
   "id": "85dbedc6",
   "metadata": {},
   "source": [
    "## Описание датасета"
   ]
  },
  {
   "cell_type": "markdown",
   "id": "dcfa7cd9",
   "metadata": {
    "ExecuteTime": {
     "end_time": "2024-10-08T19:22:32.877633Z",
     "start_time": "2024-10-08T19:22:32.867882Z"
    }
   },
   "source": [
    "The **Penguin dataset** - это коллекция изображений колоний пингвинов в Антарктиде, полученных в рамках более масштабного проекта penguin watch, который был создан с целью мониторинга изменений в их популяции. Снимки сделаны стационарными камерами в более чем 40 различных местах, которые в течение нескольких лет снимали по одному изображению в час. \n",
    "\n",
    "Набор данных состоит из 8 столбцов. \n",
    "\n",
    "* **species**: виды пингвинов (Чинстрап, Адели или Генту)\n",
    "* **island**: название острова (Дрим, Торгерсен или Биско) в архипелаге Палмер (Антарктида)\n",
    "* **bill_length_mm**: длина хвоста (мм)\n",
    "* **bill_depth_mm**: глубина гребня (мм)\n",
    "* **flipper_length_mm**: длина плавника (мм)\n",
    "* **body_mass_g**: масса тела (г)\n",
    "* **sex**: пол пингвинов\n",
    "* **year**: год наблюдения\n",
    "    "
   ]
  },
  {
   "cell_type": "markdown",
   "id": "777566a2",
   "metadata": {},
   "source": [
    "## Загрузка и обзор данных"
   ]
  },
  {
   "cell_type": "code",
   "execution_count": 523,
   "id": "b3acfd87",
   "metadata": {
    "ExecuteTime": {
     "end_time": "2024-10-09T08:36:52.467657Z",
     "start_time": "2024-10-09T08:36:52.198593Z"
    }
   },
   "outputs": [
    {
     "data": {
      "text/html": [
       "<div>\n",
       "<style scoped>\n",
       "    .dataframe tbody tr th:only-of-type {\n",
       "        vertical-align: middle;\n",
       "    }\n",
       "\n",
       "    .dataframe tbody tr th {\n",
       "        vertical-align: top;\n",
       "    }\n",
       "\n",
       "    .dataframe thead th {\n",
       "        text-align: right;\n",
       "    }\n",
       "</style>\n",
       "<table border=\"1\" class=\"dataframe\">\n",
       "  <thead>\n",
       "    <tr style=\"text-align: right;\">\n",
       "      <th></th>\n",
       "      <th>species</th>\n",
       "      <th>island</th>\n",
       "      <th>bill_length_mm</th>\n",
       "      <th>bill_depth_mm</th>\n",
       "      <th>flipper_length_mm</th>\n",
       "      <th>body_mass_g</th>\n",
       "      <th>sex</th>\n",
       "      <th>year</th>\n",
       "    </tr>\n",
       "  </thead>\n",
       "  <tbody>\n",
       "    <tr>\n",
       "      <th>63</th>\n",
       "      <td>Adelie</td>\n",
       "      <td>Biscoe</td>\n",
       "      <td>41.1</td>\n",
       "      <td>18.2</td>\n",
       "      <td>192.0</td>\n",
       "      <td>4050.0</td>\n",
       "      <td>male</td>\n",
       "      <td>2008</td>\n",
       "    </tr>\n",
       "    <tr>\n",
       "      <th>157</th>\n",
       "      <td>Gentoo</td>\n",
       "      <td>Biscoe</td>\n",
       "      <td>46.5</td>\n",
       "      <td>13.5</td>\n",
       "      <td>210.0</td>\n",
       "      <td>4550.0</td>\n",
       "      <td>female</td>\n",
       "      <td>2007</td>\n",
       "    </tr>\n",
       "    <tr>\n",
       "      <th>128</th>\n",
       "      <td>Adelie</td>\n",
       "      <td>Torgersen</td>\n",
       "      <td>39.0</td>\n",
       "      <td>17.1</td>\n",
       "      <td>191.0</td>\n",
       "      <td>3050.0</td>\n",
       "      <td>female</td>\n",
       "      <td>2009</td>\n",
       "    </tr>\n",
       "    <tr>\n",
       "      <th>122</th>\n",
       "      <td>Adelie</td>\n",
       "      <td>Torgersen</td>\n",
       "      <td>40.2</td>\n",
       "      <td>17.0</td>\n",
       "      <td>176.0</td>\n",
       "      <td>3450.0</td>\n",
       "      <td>female</td>\n",
       "      <td>2009</td>\n",
       "    </tr>\n",
       "    <tr>\n",
       "      <th>297</th>\n",
       "      <td>Chinstrap</td>\n",
       "      <td>Dream</td>\n",
       "      <td>48.5</td>\n",
       "      <td>17.5</td>\n",
       "      <td>191.0</td>\n",
       "      <td>3400.0</td>\n",
       "      <td>male</td>\n",
       "      <td>2007</td>\n",
       "    </tr>\n",
       "  </tbody>\n",
       "</table>\n",
       "</div>"
      ],
      "text/plain": [
       "       species     island  bill_length_mm  bill_depth_mm  flipper_length_mm  \\\n",
       "63      Adelie     Biscoe            41.1           18.2              192.0   \n",
       "157     Gentoo     Biscoe            46.5           13.5              210.0   \n",
       "128     Adelie  Torgersen            39.0           17.1              191.0   \n",
       "122     Adelie  Torgersen            40.2           17.0              176.0   \n",
       "297  Chinstrap      Dream            48.5           17.5              191.0   \n",
       "\n",
       "     body_mass_g     sex  year  \n",
       "63        4050.0    male  2008  \n",
       "157       4550.0  female  2007  \n",
       "128       3050.0  female  2009  \n",
       "122       3450.0  female  2009  \n",
       "297       3400.0    male  2007  "
      ]
     },
     "execution_count": 523,
     "metadata": {},
     "output_type": "execute_result"
    }
   ],
   "source": [
    "# Загрузим датасет\n",
    "url = \"https://raw.githubusercontent.com/allisonhorst/palmerpenguins/main/inst/extdata/penguins.csv\"\n",
    "penguins_data = pd.read_csv(url)\n",
    "penguins_data.sample(5)"
   ]
  },
  {
   "cell_type": "code",
   "execution_count": 524,
   "id": "a5366004",
   "metadata": {
    "ExecuteTime": {
     "end_time": "2024-10-09T08:36:52.482310Z",
     "start_time": "2024-10-09T08:36:52.469607Z"
    }
   },
   "outputs": [
    {
     "name": "stdout",
     "output_type": "stream",
     "text": [
      "<class 'pandas.core.frame.DataFrame'>\n",
      "RangeIndex: 344 entries, 0 to 343\n",
      "Data columns (total 8 columns):\n",
      " #   Column             Non-Null Count  Dtype  \n",
      "---  ------             --------------  -----  \n",
      " 0   species            344 non-null    object \n",
      " 1   island             344 non-null    object \n",
      " 2   bill_length_mm     342 non-null    float64\n",
      " 3   bill_depth_mm      342 non-null    float64\n",
      " 4   flipper_length_mm  342 non-null    float64\n",
      " 5   body_mass_g        342 non-null    float64\n",
      " 6   sex                333 non-null    object \n",
      " 7   year               344 non-null    int64  \n",
      "dtypes: float64(4), int64(1), object(3)\n",
      "memory usage: 21.6+ KB\n"
     ]
    }
   ],
   "source": [
    "# Проверяем есть ли пропуски, какие типы данных\n",
    "penguins_data.info()"
   ]
  },
  {
   "cell_type": "markdown",
   "id": "4b104bde",
   "metadata": {},
   "source": [
    "Пропуски есть, их немного."
   ]
  },
  {
   "cell_type": "code",
   "execution_count": 525,
   "id": "6433bb83",
   "metadata": {
    "ExecuteTime": {
     "end_time": "2024-10-09T08:36:52.491088Z",
     "start_time": "2024-10-09T08:36:52.484251Z"
    }
   },
   "outputs": [],
   "source": [
    "# Удалим null-значения\n",
    "penguins_data = penguins_data.dropna()"
   ]
  },
  {
   "cell_type": "code",
   "execution_count": 526,
   "id": "d0f59733",
   "metadata": {
    "ExecuteTime": {
     "end_time": "2024-10-09T08:36:52.512569Z",
     "start_time": "2024-10-09T08:36:52.494018Z"
    }
   },
   "outputs": [
    {
     "data": {
      "text/html": [
       "<div>\n",
       "<style scoped>\n",
       "    .dataframe tbody tr th:only-of-type {\n",
       "        vertical-align: middle;\n",
       "    }\n",
       "\n",
       "    .dataframe tbody tr th {\n",
       "        vertical-align: top;\n",
       "    }\n",
       "\n",
       "    .dataframe thead th {\n",
       "        text-align: right;\n",
       "    }\n",
       "</style>\n",
       "<table border=\"1\" class=\"dataframe\">\n",
       "  <thead>\n",
       "    <tr style=\"text-align: right;\">\n",
       "      <th></th>\n",
       "      <th>species</th>\n",
       "      <th>island</th>\n",
       "      <th>sex</th>\n",
       "    </tr>\n",
       "  </thead>\n",
       "  <tbody>\n",
       "    <tr>\n",
       "      <th>count</th>\n",
       "      <td>333</td>\n",
       "      <td>333</td>\n",
       "      <td>333</td>\n",
       "    </tr>\n",
       "    <tr>\n",
       "      <th>unique</th>\n",
       "      <td>3</td>\n",
       "      <td>3</td>\n",
       "      <td>2</td>\n",
       "    </tr>\n",
       "    <tr>\n",
       "      <th>top</th>\n",
       "      <td>Adelie</td>\n",
       "      <td>Biscoe</td>\n",
       "      <td>male</td>\n",
       "    </tr>\n",
       "    <tr>\n",
       "      <th>freq</th>\n",
       "      <td>146</td>\n",
       "      <td>163</td>\n",
       "      <td>168</td>\n",
       "    </tr>\n",
       "  </tbody>\n",
       "</table>\n",
       "</div>"
      ],
      "text/plain": [
       "       species  island   sex\n",
       "count      333     333   333\n",
       "unique       3       3     2\n",
       "top     Adelie  Biscoe  male\n",
       "freq       146     163   168"
      ]
     },
     "execution_count": 526,
     "metadata": {},
     "output_type": "execute_result"
    }
   ],
   "source": [
    "# Смотрим статистические характеристики категориальных признаков:\n",
    "penguins_data.describe(include='object')"
   ]
  },
  {
   "cell_type": "code",
   "execution_count": 535,
   "id": "d6b89132",
   "metadata": {
    "ExecuteTime": {
     "end_time": "2024-10-09T08:37:40.512260Z",
     "start_time": "2024-10-09T08:37:40.506408Z"
    }
   },
   "outputs": [
    {
     "name": "stdout",
     "output_type": "stream",
     "text": [
      "Уникальные виды пингвинов: ['Adelie' 'Gentoo' 'Chinstrap']\n"
     ]
    }
   ],
   "source": [
    "# Получение уникальных значений в столбце 'species'\n",
    "unique_species = penguins_data['species'].unique()\n",
    "print(\"Уникальные виды пингвинов:\", unique_species)"
   ]
  },
  {
   "cell_type": "code",
   "execution_count": 529,
   "id": "084aff57",
   "metadata": {
    "ExecuteTime": {
     "end_time": "2024-10-09T08:36:52.574100Z",
     "start_time": "2024-10-09T08:36:52.544795Z"
    }
   },
   "outputs": [
    {
     "data": {
      "text/html": [
       "<div>\n",
       "<style scoped>\n",
       "    .dataframe tbody tr th:only-of-type {\n",
       "        vertical-align: middle;\n",
       "    }\n",
       "\n",
       "    .dataframe tbody tr th {\n",
       "        vertical-align: top;\n",
       "    }\n",
       "\n",
       "    .dataframe thead th {\n",
       "        text-align: right;\n",
       "    }\n",
       "</style>\n",
       "<table border=\"1\" class=\"dataframe\">\n",
       "  <thead>\n",
       "    <tr style=\"text-align: right;\">\n",
       "      <th></th>\n",
       "      <th>bill_length_mm</th>\n",
       "      <th>bill_depth_mm</th>\n",
       "      <th>flipper_length_mm</th>\n",
       "      <th>body_mass_g</th>\n",
       "      <th>year</th>\n",
       "    </tr>\n",
       "  </thead>\n",
       "  <tbody>\n",
       "    <tr>\n",
       "      <th>count</th>\n",
       "      <td>333.000000</td>\n",
       "      <td>333.000000</td>\n",
       "      <td>333.000000</td>\n",
       "      <td>333.000000</td>\n",
       "      <td>333.000000</td>\n",
       "    </tr>\n",
       "    <tr>\n",
       "      <th>mean</th>\n",
       "      <td>43.992793</td>\n",
       "      <td>17.164865</td>\n",
       "      <td>200.966967</td>\n",
       "      <td>4207.057057</td>\n",
       "      <td>2008.042042</td>\n",
       "    </tr>\n",
       "    <tr>\n",
       "      <th>std</th>\n",
       "      <td>5.468668</td>\n",
       "      <td>1.969235</td>\n",
       "      <td>14.015765</td>\n",
       "      <td>805.215802</td>\n",
       "      <td>0.812944</td>\n",
       "    </tr>\n",
       "    <tr>\n",
       "      <th>min</th>\n",
       "      <td>32.100000</td>\n",
       "      <td>13.100000</td>\n",
       "      <td>172.000000</td>\n",
       "      <td>2700.000000</td>\n",
       "      <td>2007.000000</td>\n",
       "    </tr>\n",
       "    <tr>\n",
       "      <th>25%</th>\n",
       "      <td>39.500000</td>\n",
       "      <td>15.600000</td>\n",
       "      <td>190.000000</td>\n",
       "      <td>3550.000000</td>\n",
       "      <td>2007.000000</td>\n",
       "    </tr>\n",
       "    <tr>\n",
       "      <th>50%</th>\n",
       "      <td>44.500000</td>\n",
       "      <td>17.300000</td>\n",
       "      <td>197.000000</td>\n",
       "      <td>4050.000000</td>\n",
       "      <td>2008.000000</td>\n",
       "    </tr>\n",
       "    <tr>\n",
       "      <th>75%</th>\n",
       "      <td>48.600000</td>\n",
       "      <td>18.700000</td>\n",
       "      <td>213.000000</td>\n",
       "      <td>4775.000000</td>\n",
       "      <td>2009.000000</td>\n",
       "    </tr>\n",
       "    <tr>\n",
       "      <th>max</th>\n",
       "      <td>59.600000</td>\n",
       "      <td>21.500000</td>\n",
       "      <td>231.000000</td>\n",
       "      <td>6300.000000</td>\n",
       "      <td>2009.000000</td>\n",
       "    </tr>\n",
       "  </tbody>\n",
       "</table>\n",
       "</div>"
      ],
      "text/plain": [
       "       bill_length_mm  bill_depth_mm  flipper_length_mm  body_mass_g  \\\n",
       "count      333.000000     333.000000         333.000000   333.000000   \n",
       "mean        43.992793      17.164865         200.966967  4207.057057   \n",
       "std          5.468668       1.969235          14.015765   805.215802   \n",
       "min         32.100000      13.100000         172.000000  2700.000000   \n",
       "25%         39.500000      15.600000         190.000000  3550.000000   \n",
       "50%         44.500000      17.300000         197.000000  4050.000000   \n",
       "75%         48.600000      18.700000         213.000000  4775.000000   \n",
       "max         59.600000      21.500000         231.000000  6300.000000   \n",
       "\n",
       "              year  \n",
       "count   333.000000  \n",
       "mean   2008.042042  \n",
       "std       0.812944  \n",
       "min    2007.000000  \n",
       "25%    2007.000000  \n",
       "50%    2008.000000  \n",
       "75%    2009.000000  \n",
       "max    2009.000000  "
      ]
     },
     "execution_count": 529,
     "metadata": {},
     "output_type": "execute_result"
    }
   ],
   "source": [
    "# Смотрим статистические характеристики числовых признаков:\n",
    "penguins_data.describe()"
   ]
  },
  {
   "cell_type": "code",
   "execution_count": 536,
   "id": "74143ad2",
   "metadata": {
    "ExecuteTime": {
     "end_time": "2024-10-09T08:38:17.067071Z",
     "start_time": "2024-10-09T08:38:17.060236Z"
    }
   },
   "outputs": [],
   "source": [
    "# Фильтруем данные для видов Adelie и Chinstrap:\n",
    "adelie_bill_length = penguins_data[penguins_data['species'] == 'Adelie']['bill_length_mm']\n",
    "chinstrap_bill_length = penguins_data[penguins_data['species'] == 'Chinstrap']['bill_length_mm']"
   ]
  },
  {
   "cell_type": "code",
   "execution_count": 543,
   "id": "b197f4c5",
   "metadata": {
    "ExecuteTime": {
     "end_time": "2024-10-09T08:39:46.610897Z",
     "start_time": "2024-10-09T08:39:46.604081Z"
    }
   },
   "outputs": [
    {
     "name": "stdout",
     "output_type": "stream",
     "text": [
      "Медианный размер клюва для Adelie: 38.85 mm\n",
      "Медианный размер клюва для Chinstrap: 49.55 mm\n"
     ]
    }
   ],
   "source": [
    "# Вычисление медианного размера клюва\n",
    "adelie_median = adelie_bill_length.median()\n",
    "chinstrap_median = chinstrap_bill_length.median()\n",
    "\n",
    "# Вывод результатов\n",
    "print(f\"Медианный размер клюва для Adelie: {adelie_median:.10} mm\")\n",
    "print(f\"Медианный размер клюва для Chinstrap: {chinstrap_median:.10} mm\")"
   ]
  },
  {
   "cell_type": "code",
   "execution_count": 532,
   "id": "8ba8120a",
   "metadata": {
    "ExecuteTime": {
     "end_time": "2024-10-09T08:36:53.040433Z",
     "start_time": "2024-10-09T08:36:52.594597Z"
    }
   },
   "outputs": [
    {
     "data": {
      "image/png": "[encoded data removed]",
      "text/plain": [
       "<Figure size 800x600 with 1 Axes>"
      ]
     },
     "metadata": {},
     "output_type": "display_data"
    }
   ],
   "source": [
    "# Построение графиков распределения (KDE) для длины клюва\n",
    "plt.figure(figsize=(8, 6))\n",
    "\n",
    "# График для Adelie\n",
    "sns.histplot(adelie_bill_length, bins=30, kde=True, color='purple', fill=True, alpha=0.3, label='Adelie', stat='density')\n",
    "\n",
    "# График для Chinstrap\n",
    "sns.histplot(chinstrap_bill_length, bins=30, kde=True, color='blue', fill=True, alpha=0.3, label='Chinstrap', stat='density')\n",
    "\n",
    "\n",
    "# Настройка графика\n",
    "plt.title('Распределение длины клюва для пингвинов Adelie и Chinstrap')\n",
    "plt.xlabel('Длина клюва (mm)')\n",
    "plt.ylabel('Плотность')\n",
    "plt.legend()\n",
    "plt.show()"
   ]
  },
  {
   "cell_type": "markdown",
   "id": "8c2b6adb",
   "metadata": {},
   "source": [
    "Данные для Chinstrap имеют 2 пика: данные не соответствуют нормальному распределению.\n",
    "В данном случае для анализа выборок подойдет критерий Манна-Уитни."
   ]
  },
  {
   "cell_type": "markdown",
   "id": "5f1dc83f",
   "metadata": {},
   "source": [
    "## U-критерий Манна-Уитни "
   ]
  },
  {
   "cell_type": "code",
   "execution_count": 545,
   "id": "cc88f6c9",
   "metadata": {
    "ExecuteTime": {
     "end_time": "2024-10-09T08:40:10.357118Z",
     "start_time": "2024-10-09T08:40:10.349309Z"
    }
   },
   "outputs": [
    {
     "name": "stdout",
     "output_type": "stream",
     "text": [
      "Statistic: 100.0, p-value: 9.062978492291712e-31\n"
     ]
    }
   ],
   "source": [
    "#  Проводим U-критерий Манна-Уитни:\n",
    "stat, p_value = stats.mannwhitneyu(adelie_bill_length, chinstrap_bill_length)\n",
    "print(f'Statistic: {stat}, p-value: {p_value}')"
   ]
  },
  {
   "cell_type": "markdown",
   "id": "caebab4b",
   "metadata": {},
   "source": [
    "- Statistic- это значение U-статистики, которое указывает на количество пар, в которых элементы из первой выборки меньше, чем элементы из второй выборки.\n",
    "- p-value близко к нулю,  оно указывает на то, что с большой уверенностью можно утверждать, что длины клюва пингвинов двух видов статистически различаются."
   ]
  },
  {
   "cell_type": "markdown",
   "id": "db8e8f3f",
   "metadata": {},
   "source": [
    "## Интерпретация результата"
   ]
  },
  {
   "cell_type": "code",
   "execution_count": 534,
   "id": "65e8a57e",
   "metadata": {
    "ExecuteTime": {
     "end_time": "2024-10-09T08:36:53.058988Z",
     "start_time": "2024-10-09T08:36:53.053132Z"
    }
   },
   "outputs": [
    {
     "name": "stdout",
     "output_type": "stream",
     "text": [
      "📈 Медианный размер клюва (bill_length_mm) между видами Adelie и Chinstrap имеет отличия.\n"
     ]
    }
   ],
   "source": [
    "if p_value < 0.05:\n",
    "    print(\"📈 Медианный размер клюва (bill_length_mm) между видами Adelie и Chinstrap имеет отличия.\")\n",
    "else:\n",
    "    print(\"📈 Медианный размер клюва (bill_length_mm) между видами Adelie и Chinstrap не имеет отличия.\")"
   ]
  }
 ],
 "metadata": {
  "kernelspec": {
   "display_name": "Python 3 (ipykernel)",
   "language": "python",
   "name": "python3"
  },
  "language_info": {
   "codemirror_mode": {
    "name": "ipython",
    "version": 3
   },
   "file_extension": ".py",
   "mimetype": "text/x-python",
   "name": "python",
   "nbconvert_exporter": "python",
   "pygments_lexer": "ipython3",
   "version": "3.9.12"
  },
  "toc": {
   "base_numbering": 1,
   "nav_menu": {},
   "number_sections": true,
   "sideBar": true,
   "skip_h1_title": false,
   "title_cell": "Table of Contents",
   "title_sidebar": "Contents",
   "toc_cell": false,
   "toc_position": {
    "height": "calc(100% - 180px)",
    "left": "10px",
    "top": "150px",
    "width": "272px"
   },
   "toc_section_display": true,
   "toc_window_display": true
  }
 },
 "nbformat": 4,
 "nbformat_minor": 5
}
